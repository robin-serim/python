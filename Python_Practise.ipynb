{
  "cells": [
    {
      "attachments": {},
      "cell_type": "markdown",
      "metadata": {
        "id": "v2R4nFY0nQ5w"
      },
      "source": [
        "Q.1. Given an array nums. We define a running sum of an array as runningSum[i] = sum(nums[0],…,nums[i]). Return the running sum of nums.\n",
        "\n",
        "Example:\n",
        "\n",
        "Input: nums = [1,2,3,4]\n",
        "\n",
        "Output: [1,3,6,10]\n",
        "\n",
        "Explanation: Running sum is obtained as follows: [1, 1+2, 1+2+3, 1+2+3+4]\n",
        "\n"
      ]
    },
    {
      "attachments": {},
      "cell_type": "markdown",
      "metadata": {},
      "source": [
        "Q.1. nums isminde bir dizi veriliyor.Dizi elemanlarının toplamı olarak runningSum[i] = sum(nums[0],…,nums[i]) tanımlıdır. Dizi nums'un çalışan toplamını döndürün.\n",
        "\n",
        "Örnek:\n",
        "\n",
        "Input: nums = [1,2,3,4]\n",
        "\n",
        "Output: [1,3,6,10]\n",
        "\n",
        "Açıklama: Running sum şu şekilde elde edilir: [1, 1+2, 1+2+3, 1+2+3+4]"
      ]
    },
    {
      "cell_type": "markdown",
      "metadata": {
        "id": "QjppKi-0ngdc"
      },
      "source": [
        "Q.2. Given a valid (IPv4) IP address, return a defanged version of that IP address. A defanged IP address replaces every period \".\" with \"[.]\".\n",
        "\n",
        "Example:\n",
        "\n",
        "Input: address = \"1.1.1.1\"\n",
        "\n",
        "Output: \"1[.]1[.]1[.]1\""
      ]
    },
    {
      "attachments": {},
      "cell_type": "markdown",
      "metadata": {},
      "source": [
        "Q.2. Geçerli bir (IPv4) IP adresi verildiğinde, bu IP adresinin defanged (korumalı) bir versiyonunu döndürün. Bir defanged IP adresi, her bir nokta \".\" karakterini \"[.]\" ile değiştirir.\n",
        "\n",
        "Örnek:\n",
        "\n",
        "Input: address = \"1.1.1.1\"\n",
        "\n",
        "Output: \"1[.]1[.]1[.]1\""
      ]
    },
    {
      "cell_type": "markdown",
      "metadata": {
        "id": "y6M8RTNLnrHI"
      },
      "source": [
        "Q.3. Given the array nums consisting of 2n elements in the form [x1,x2,...,xn,y1,y2,...,yn]. Return the array in the form [x1,y1,x2,y2,...,xn,yn].\n",
        "\n",
        "Example:\n",
        "\n",
        "Input: nums = [2,5,1,3,4,7], n = 3\n",
        "\n",
        "Output: [2,3,5,4,1,7]\n",
        "\n",
        "Explanation: Since x1=2, x2=5, x3=1, y1=3, y2=4, y3=7 then the answer is [2,3,5,4,1,7]."
      ]
    },
    {
      "attachments": {},
      "cell_type": "markdown",
      "metadata": {},
      "source": [
        "Q.3. x1,x2,...,xn,y1,y2,...,yn şeklindeki 2n elemanlı bir nums dizisi verildiğinde, nums dizisini [x1,y1,x2,y2,...,xn,yn] şeklinde dönüştürün.\n",
        "\n",
        "Örnek:\n",
        "\n",
        "Input: nums = [2,5,1,3,4,7], n = 3\n",
        "\n",
        "Output: [2,3,5,4,1,7]\n",
        "\n",
        "Açıklama: x1=2, x2=5, x3=1, y1=3, y2=4, y3=7 olduğu için sonuç [2,3,5,4,1,7] olur."
      ]
    },
    {
      "cell_type": "markdown",
      "metadata": {
        "id": "4-9M6P0Mn3QN"
      },
      "source": [
        "Q.4. You are given an m x n integer grid accounts where accounts[i][j] is the amount of money the ith customer has in the jth bank. Return the wealth that the richest customer has. A customer's wealth is the amount of money they have in all their bank accounts. The richest customer is the customer that has the maximum wealth.\n",
        "\n",
        "Example:\n",
        "\n",
        "Input: accounts = [[1,2,3],[3,2,1]]\n",
        "\n",
        "Output: 6\n",
        "\n",
        "Explanation: 1st customer has wealth = 1 + 2 + 3 = 6 2nd customer has wealth = 3 + 2 + 1 = 6 Both customers are considered the richest with a wealth of 6 each, so return 6."
      ]
    },
    {
      "attachments": {},
      "cell_type": "markdown",
      "metadata": {},
      "source": [
        "Q.4. m x n tamsayılar dizisi accounts verildiğinde, her bir müşterinin bankadaki paralarının toplamı olan wealth'ı döndürün. Bir müşterinin wealth'ı, sahip olduğu tüm banka hesaplarındaki para miktarıdır. En zengin müşteri, maksimum wealth'a sahip olan müşteridir.\n",
        "\n",
        "Örnek:\n",
        "\n",
        "Input: accounts = [[1,2,3],[3,2,1]]\n",
        "\n",
        "Output: 6\n",
        "\n",
        "Açıklama: 1. müşterinin wealth'ı = 1 + 2 + 3 = 6, 2. müşterinin wealth'ı = 3 + 2 + 1 = 6, her iki müşteri de 6 wealth değeriyle en zengin müşteri olarak kabul edilir, bu nedenle 6 döndürülür.\n",
        "\n"
      ]
    },
    {
      "cell_type": "markdown",
      "metadata": {
        "id": "-bspjcWdn8fW"
      },
      "source": [
        "Q.5. You are given an array items, where each items[i] = [typei, colori, namei] describes the type, color, and name of the ith item. You are also given a rule represented by two strings, ruleKey and ruleValue.The ith item is said to match the rule if one of the following is true:\n",
        "\n",
        "ruleKey == \"type\" and ruleValue == typei. ruleKey == \"color\" and ruleValue == colori. ruleKey == \"name\" and ruleValue == namei. Return the number of items that match the given rule.\n",
        "\n",
        "Example:\n",
        "\n",
        "Input: items = [[\"phone\",\"blue\",\"pixel\"],[\"computer\",\"silver\",\"lenovo\"],[\"phone\",\"gold\",\"iphone\"]], ruleKey = \"color\", ruleValue = \"silver\"\n",
        "\n",
        "Output: 1\n",
        "\n",
        "Explanation: There is only one item matching the given rule, which is [\"computer\",\"silver\",\"lenovo\"]."
      ]
    },
    {
      "attachments": {},
      "cell_type": "markdown",
      "metadata": {},
      "source": [
        "Q.5. items adında bir dizi verildiğinde, her bir items[i] = [typei, colori, namei] ifadesi, ith öğenin türünü, rengini ve adını tanımlar. Ayrıca, iki dize olan bir kural verilmiştir: ruleKey ve ruleValue. İth öğe, aşağıdakilerden birini sağlarsa kurala uyar:\n",
        "\n",
        "ruleKey == \"type\" ve ruleValue == typei.\n",
        "ruleKey == \"color\" ve ruleValue == colori.\n",
        "ruleKey == \"name\" ve ruleValue == namei.\n",
        "Verilen kurala uyan öğe sayısını döndürün.\n",
        "\n",
        "Örnek:\n",
        "\n",
        "Input: items = [[\"phone\",\"blue\",\"pixel\"],[\"computer\",\"silver\",\"lenovo\"],[\"phone\",\"gold\",\"iphone\"]], ruleKey = \"color\", ruleValue = \"silver\"\n",
        "\n",
        "Output: 1\n",
        "\n",
        "Açıklama: Verilen kurala uyan yalnızca [\"computer\",\"silver\",\"lenovo\"] öğesidir."
      ]
    },
    {
      "cell_type": "markdown",
      "metadata": {
        "id": "RrMlJlDSoFWt"
      },
      "source": [
        "Q.6. You're given strings jewels representing the types of stones that are jewels, and stones representing the stones you have. Each character in stones is a type of stone you have. You want to know how many of the stones you have are also jewels. Letters are case sensitive, so \"a\" is considered a different type of stone from \"A\".\n",
        "\n",
        "Example 1:\n",
        "\n",
        "Input: jewels = \"aA\", stones = \"aAAbbbb\"\n",
        "\n",
        "Output: 3\n",
        "\n",
        "Example 2:\n",
        "\n",
        "Input: jewels = \"z\", stones = \"ZZ\"\n",
        "\n",
        "Output: 0"
      ]
    },
    {
      "attachments": {},
      "cell_type": "markdown",
      "metadata": {},
      "source": [
        "Q.6. jewels adında taşların türlerini temsil eden bir dize ve stones adında sahip olduğun taşları temsil eden bir dize verilmiştir. Stones'daki her karakter bir taşın türünü ifade eder. Kaç taşınızın aynı zamanda mücevher olduğunu bilmek istiyorsunuz. Harfler büyük-küçük duyarlıdır, bu nedenle \"a\", \"A\" ile aynı türde bir taş olarak kabul edilir.\n",
        "\n",
        "Örnek 1:\n",
        "\n",
        "Input: jewels = \"aA\", stones = \"aAAbbbb\"\n",
        "\n",
        "Output: 3\n",
        "\n",
        "Örnek 2:\n",
        "\n",
        "Input: jewels = \"z\", stones = \"\n",
        "Output: 0"
      ]
    },
    {
      "cell_type": "markdown",
      "metadata": {
        "id": "ROYl9sRKoNrS"
      },
      "source": [
        "Q.7. Given the array nums, for each nums[i] find out how many numbers in the array are smaller than it. That is, for each nums[i] you have to count the number of valid j's such that j != i and nums[j] < nums[i]. Return the answer in an array.\n",
        "\n",
        "Example:\n",
        "\n",
        "Input: nums = [8,1,2,2,3]\n",
        "\n",
        "Output: [4,0,1,1,3]\n",
        "\n",
        "Explanation: For nums[0]=8 there exist four smaller numbers than it (1, 2, 2 and 3). For nums[1]=1 does not exist any smaller number than it. For nums[2]=2 there exist one smaller number than it (1). For nums[3]=2 there exist one smaller number than it (1). For nums[4]=3 there exist three smaller numbers than it (1, 2 and 2)."
      ]
    },
    {
      "attachments": {},
      "cell_type": "markdown",
      "metadata": {},
      "source": [
        "Q.7. Verilen nums dizisine göre, her nums[i] için dizideki diğer sayıların kaç tanesinin ondan küçük olduğunu bulun. Yani, nums[i] için geçerli j'lerin sayısını saymalısınız, böylece j != i ve nums[j] < nums[i]. Cevabı bir dizide döndürün.\n",
        "\n",
        "Örnek:\n",
        "\n",
        "Input: nums = [8,1,2,2,3]\n",
        "\n",
        "Output: [4,0,1,1,3]\n",
        "\n",
        "Açıklama: nums[0]=8 için ondan küçük dört sayı vardır (1, 2, 2 ve 3). nums[1]=1 için ondan küçük hiçbir sayı yoktur. nums[2]=2 için ondan küçük bir sayı vardır (1). nums[3]=2 için ondan küçük bir sayı vardır (1). nums[4]=3 için ondan küçük üç sayı vardır (1, 2 ve 2).\n",
        "\n"
      ]
    },
    {
      "cell_type": "markdown",
      "metadata": {
        "id": "HUKAOE5KoUCW"
      },
      "source": [
        "Q.8. Given a non-negative integer num, return the number of steps to reduce it to zero. If the current number is even, you have to divide it by 2, otherwise, you have to subtract 1 from it.\n",
        "\n",
        "Example:\n",
        "\n",
        "Input: num = 14\n",
        "\n",
        "Output: 6\n",
        "\n",
        "Explanation: Step 1) 14 is even; divide by 2 and obtain 7. Step 2) 7 is odd; subtract 1 and obtain 6. Step 3) 6 is even; divide by 2 and obtain 3. Step 4) 3 is odd; subtract 1 and obtain 2. Step 5) 2 is even; divide by 2 and obtain 1. Step 6) 1 is odd; subtract 1 and obtain 0."
      ]
    },
    {
      "attachments": {},
      "cell_type": "markdown",
      "metadata": {},
      "source": [
        "Q.8. Pozitif olmayan bir tamsayı num verildiğinde, onu sıfıra düşürmek için kaç adım gerektiğini bulun. Mevcut sayı çiftse, 2'ye bölmeniz gerekecek, aksi takdirde 1 çıkarmanız gerekecek.\n",
        "\n",
        "Örnek:\n",
        "\n",
        "Input: num = 14\n",
        "\n",
        "Output: 6\n",
        "\n",
        "Açıklama: Adım 1) 14 çifttir; 2'ye böl ve 7 elde et. Adım 2) 7 tek sayıdır; 1 çıkar ve 6 elde et. Adım 3) 6 çifttir; 2'ye böl ve 3 elde et. Adım 4) 3 tek sayıdır; 1 çıkar ve 2 elde et. Adım 5) 2 çifttir; 2'ye böl ve 1 elde et. Adım 6) 1 tek sayıdır; 1 çıkar ve 0 elde et."
      ]
    },
    {
      "cell_type": "markdown",
      "metadata": {
        "id": "VepqyOpeoXR_"
      },
      "source": [
        "Q.9. Given a string s and an integer array indices of the same length.The string s will be shuffled such that the character at the ith position moves to indices[i] in the shuffled string. Return the shuffled string.\n",
        "\n",
        "Example 1:\n",
        "\n",
        "Input: s = \"codeleet\", indices = [4,5,6,7,0,2,1,3]\n",
        "\n",
        "Output: \"leetcode\"\n",
        "\n",
        "Explanation: As shown, \"codeleet\" becomes \"leetcode\" after shuffling.\n",
        "\n",
        "Example 2:\n",
        "\n",
        "Input: s = \"abc\", indices = [0,1,2]\n",
        "\n",
        "Output: \"abc\"\n",
        "\n",
        "Explanation: After shuffling, each character remains in its position."
      ]
    },
    {
      "attachments": {},
      "cell_type": "markdown",
      "metadata": {},
      "source": [
        "Q.9. Bir dize olan s ve aynı uzunluktaki bir tam sayı dizisi olan indices verildiğinde, string s'in, i. konumdaki karakterinin, karşılık gelen dizideki indices[i] konumuna hareket ettiği şekilde düzenlendiğinde ortaya çıkan dizeyi döndürün.\n",
        "\n",
        "Örnek 1:\n",
        "\n",
        "Input: s = \"codeleet\", indices = [4,5,6,7,0,2,1,3]\n",
        "\n",
        "Output: \"leetcode\"\n",
        "\n",
        "Açıklama: Gösterildiği gibi, \"codeleet\" şu şekilde düzenlenir: \"codeleet\" şu şekilde düzenlenir: 0 konumundaki karakter, 4 konumuna taşındığında \"l\" olur. 1 konumundaki karakter, 5 konumuna taşındığında \"e\" olur. 2 konumundaki karakter, 6 konumuna taşındığında \"e\" olur. 3 konumundaki karakter, 7 konumuna taşındığında \"t\" olur. 4 konumundaki karakter, 0 konumuna taşındığında \"c\" olur. 5 konumundaki karakter, 2 konumuna taşındığında \"o\" olur. 6 konumundaki karakter, 1 konumuna taşındığında \"d\" olur. 7 konumundaki karakter, 3 konumuna taşındığında \"e\" olur."
      ]
    },
    {
      "cell_type": "markdown",
      "metadata": {
        "id": "8wPxOzCIoiP0"
      },
      "source": [
        "Q.10. Given an integer number n, return the difference between the product of its digits and the sum of its digits.\n",
        "\n",
        "Example:\n",
        "\n",
        "Input: n = 234\n",
        "\n",
        "Output: 15\n",
        "\n",
        "Explanation: Product of digits = 2 * 3 * 4 = 24 Sum of digits = 2 + 3 + 4 = 9 Result = 24 - 9 = 15"
      ]
    },
    {
      "attachments": {},
      "cell_type": "markdown",
      "metadata": {},
      "source": [
        "Q.10. Bir pozitif tamsayı num verildiğinde, rakamlarının çarpımı ile rakamlarının toplamı arasındaki farkı bulun.\n",
        "\n",
        "Örnek:\n",
        "\n",
        "Input: n = 234\n",
        "\n",
        "Output: 15\n",
        "\n",
        "Açıklama: Rakamların çarpımı = 2 * 3 * 4 = 24 Rakamların toplamı = 2 + 3 + 4 = 9 Sonuç = 24 - 9 = 15"
      ]
    },
    {
      "cell_type": "markdown",
      "metadata": {
        "id": "k60VM_TWolrW"
      },
      "source": [
        "Q.11. We are given a list nums of integers representing a list compressed with run-length encoding. Consider each adjacent pair of elements [freq, val] = [nums[2i], nums[2i+1]] (with i >= 0). For each such pair, there are freq elements with value val concatenated in a sublist. Concatenate all the sublists from left to right to generate the decompressed list. Return the decompressed list.\n",
        "\n",
        "Example 1:\n",
        "\n",
        "Input: nums = [1,2,3,4]\n",
        "\n",
        "Output: [2,4,4,4]\n",
        "\n",
        "Explanation: The first pair [1,2] means we have freq = 1 and val = 2 so we generate the array [2]. The second pair [3,4] means we have freq = 3 and val = 4 so we generate [4,4,4]. At the end the concatenation [2] + [4,4,4] is [2,4,4,4].\n",
        "\n",
        "Example 2:\n",
        "\n",
        "Input: nums = [1,1,2,3]\n",
        "\n",
        "Output: [1,3,3]"
      ]
    },
    {
      "attachments": {},
      "cell_type": "markdown",
      "metadata": {},
      "source": [
        "Q.11. Sıkıştırılmış bir dizi olan nums dizisi verildiğinde, diziyi çözerek orijinal diziye dönüştürün. Her bir çift [freq, val] = [nums[2i], nums[2i+1]] (i >= 0) için, freq değeri val değerini içeren bir alt liste oluşturur. Alt listeleri soldan sağa doğru birleştirerek çözülmüş diziyi döndürün.\n",
        "\n",
        "Örnek 1:\n",
        "\n",
        "Input: nums = [1,2,3,4]\n",
        "\n",
        "Output: [2,4,4,4]\n",
        "\n",
        "Açıklama: İlk çift [1,2], freq = 1 ve val = 2 olduğundan dolayı alt liste [2] olur. İkinci çift [3,4], freq = 3 ve val = 4 olduğundan dolayı alt liste [4,4,4] olur. Son olarak alt listeleri birleştirerek [2,4,4,4] elde edilir."
      ]
    },
    {
      "cell_type": "markdown",
      "metadata": {
        "id": "Ju9bXE_Pouca"
      },
      "source": [
        "Q.12. Given the array candies and the integer extraCandies, where candies[i] represents the number of candies that the ith kid has. For each kid check if there is a way to distribute extraCandies among the kids such that he or she can have the greatest number of candies among them. Notice that multiple kids can have the greatest number of candies.\n",
        "\n",
        "Example 1:\n",
        "\n",
        "Input: candies = [2,3,5,1,3], extraCandies = 3\n",
        "\n",
        "Output: [true,true,true,false,true]\n",
        "\n",
        "Explanation: Kid 1 has 2 candies and if he or she receives all extra candies (3) will have 5 candies --- the greatest number of candies among the kids. Kid 2 has 3 candies and if he or she receives at least 2 extra candies will have the greatest number of candies among the kids. Kid 3 has 5 candies and this is already the greatest number of candies among the kids. Kid 4 has 1 candy and even if he or she receives all extra candies will only have 4 candies. Kid 5 has 3 candies and if he or she receives at least 2 extra candies will have the greatest number of candies among the kids.\n",
        "\n",
        "Example 2:\n",
        "\n",
        "Input: candies = [4,2,1,1,2], extraCandies = 1\n",
        "\n",
        "Output: [true,false,false,false,false]\n",
        "\n",
        "Explanation: There is only 1 extra candy, therefore only kid 1 will have the greatest number of candies among the kids regardless of who takes the extra candy."
      ]
    },
    {
      "attachments": {},
      "cell_type": "markdown",
      "metadata": {},
      "source": [
        "Q.12. Candies adında bir diziniz var ve extraCandies adında bir pozitif tamsayı. Candies[i], i. çocuğun sahip olduğu şeker miktarını temsil eder. Her çocuğa ekstraCandies kadar ekstra şeker verilirse, hangi çocuğun en fazla şeker miktarına sahip olabileceğini belirlemek istiyorsunuz. Birden fazla çocuğun en fazla şeker miktarına sahip olabileceği durumlar olabilir.\n",
        "\n",
        "Örnek 1:\n",
        "\n",
        "Input: candies = [2,3,5,1,3], extraCandies = 3\n",
        "\n",
        "Output: [true,true,true,false,true]\n",
        "\n",
        "Açıklama: 1. çocuğun şeker miktarı = 2 ve eğer tüm ekstra şekerler verilirse 5 olur (2 + 3 = 5) 2. çocuğun şeker miktarı = 3 ve eğer tüm ekstra şekerler verilirse 6 olur (3 + 3 = 6) 3. çocuğun şeker miktarı = 5 ve zaten en fazla şeker miktarına sahip olduğu için ekstra şeker almasına gerek yoktur. 4. çocuğun şeker miktarı = 1 ve eğer 3 ekstra şeker verilirse 4 olur (1 + 3 = 4) 5. çocuğun şeker miktarı = 3 ve zaten en fazla şeker miktarına sahip olduğu için ekstra şeker almasına gerek yoktur."
      ]
    },
    {
      "cell_type": "markdown",
      "metadata": {
        "id": "aLMfD8Qpo4bR"
      },
      "source": [
        "Q.13. Given an array of integers nums. A pair (i,j) is called good if nums[i] == nums[j] and i < j. Return the number of good pairs.\n",
        "\n",
        "Example:\n",
        "\n",
        "Input: nums = [1,2,3,1,1,3]\n",
        "\n",
        "Output: 4\n",
        "\n",
        "Explanation: There are 4 good pairs (0,3), (0,4), (3,4), (2,5) 0-indexed."
      ]
    },
    {
      "attachments": {},
      "cell_type": "markdown",
      "metadata": {},
      "source": [
        "Q.13. Bir dizi tam sayı olan nums verildiğinde, iyi bir çift (i,j) nums[i] == nums[j] ve i < j olacak şekilde tanımlanır. İyi çiftlerin sayısını döndürün.\n",
        "\n",
        "Örnek:\n",
        "\n",
        "Input: nums = [1,2,3,1,1,3]\n",
        "\n",
        "Output: 4\n",
        "\n",
        "Açıklama: 4 iyi çift vardır: (0,3), (0,4), (3,4), (2,5) (0 dizinden başlar)."
      ]
    },
    {
      "cell_type": "markdown",
      "metadata": {
        "id": "EsxZO0jFo85o"
      },
      "source": [
        "Q.14. Given two arrays of integers nums and index. Your task is to create target array under the following rules: Initially target array is empty.From left to right read nums[i] and index[i], insert at index index[i] the value nums[i] in target array.Repeat the previous step until there are no elements to read in nums and index. Return the target array.It is guaranteed that the insertion operations will be valid.\n",
        "\n",
        "Example:\n",
        "\n",
        "Input: nums = [0,1,2,3,4], index = [0,1,2,2,1]\n",
        "\n",
        "Output: [0,4,1,3,2]\n",
        "\n",
        "Explanation: nums index target 0 0 [0] 1 1 [0,1] 2 2 [0,1,2] 3 2 [0,1,3,2] 4 1 [0,4,1,3,2]"
      ]
    },
    {
      "attachments": {},
      "cell_type": "markdown",
      "metadata": {},
      "source": [
        "Q.14. İki tamsayı dizisi olan nums ve index verildiğinde, her çocuk için nums[i] okunacak ve index[i] konumuna nums[i] değeri eklenecek şekilde hedef dizisini oluşturmanız gerekiyor. Önce sol taraftan sağa doğru nums[i] okunur ve index[i] konumuna nums[i] değeri eklenir. Önceki adım, nums ve index dizilerinde okunacak daha fazla eleman kalmayana kadar tekrarlanır. Oluşturulan hedef dizisini döndürün. İkili işlemler her zaman geçerli olacağı garanti edilir.\n",
        "\n",
        "Örnek:\n",
        "\n",
        "Input: nums = [0,1,2,3,4], index = [0,1,2,2,1]\n",
        "\n",
        "Output: [0,4,1,3,2]\n",
        "\n",
        "Açıklama: nums index hedef 0 0 [0] 1 1 [0,1] 2 2 [0,1,2] 3 2 [0,1,3,2] 4 1 [0,4,1,3,2]"
      ]
    },
    {
      "cell_type": "markdown",
      "metadata": {
        "id": "iK2inSclpCJY"
      },
      "source": [
        "Q.15. Balanced strings are those that have an equal quantity of 'L' and 'R' characters. Given a balanced string s, split it in the maximum amount of balanced strings. Return the maximum amount of split balanced strings.\n",
        "\n",
        "Example 1:\n",
        "\n",
        "Input: s = \"RLRRLLRLRL\"\n",
        "\n",
        "Output: 4\n",
        "\n",
        "Explanation: s can be split into \"RL\", \"RRLL\", \"RL\", \"RL\", each substring contains same number of 'L' and 'R'.\n",
        "\n",
        "Example 2:\n",
        "\n",
        "Input: s = \"RLLLLRRRLR\"\n",
        "\n",
        "Output: 3\n",
        "\n",
        "Explanation: s can be split into \"RL\", \"LLLRRR\", \"LR\", each substring contains same number of 'L' and 'R'."
      ]
    },
    {
      "attachments": {},
      "cell_type": "markdown",
      "metadata": {},
      "source": [
        "Q.15. Denge taşları, 'L' ve 'R' karakterlerinin eşit miktarda olduğu taşlardır. Denge taşlarına sahip bir dize olan s verildiğinde, dizeyi mümkün olduğunca fazla denge taşlarına bölmek istiyorsunuz. Bölünebilecek maksimum denge taşlarının sayısını döndürün.\n",
        "\n",
        "Örnek 1:\n",
        "\n",
        "Input: s = \"RLRRLLRLRL\"\n",
        "\n",
        "Output: 4\n",
        "\n",
        "Açıklama: s dizesi \"RL\", \"RRLL\", \"RL\", \"RL\" şeklinde 4 denge taşına bölünebilir."
      ]
    },
    {
      "cell_type": "markdown",
      "metadata": {
        "id": "Q3jcjCsepLaM"
      },
      "source": [
        "Q.16. You own a Goal Parser that can interpret a string command. The command consists of an alphabet of \"G\", \"()\" and/or \"(al)\" in some order. The Goal Parser will interpret \"G\" as the string \"G\", \"()\" as the string \"o\", and \"(al)\" as the string \"al\". The interpreted strings are then concatenated in the original order. Given the string command, return the Goal Parser's interpretation of command.\n",
        "\n",
        "Example 1:\n",
        "\n",
        "Input: command = \"G()(al)\"\n",
        "\n",
        "Output: \"Goal\"\n",
        "\n",
        "Explanation: The Goal Parser interprets the command as follows: G -> G () -> o (al) -> al The final concatenated result is \"Goal\".\n",
        "\n",
        "Example 2:\n",
        "\n",
        "Input: command = \"G()()()()(al)\"\n",
        "\n",
        "Output: \"Gooooal\""
      ]
    },
    {
      "attachments": {},
      "cell_type": "markdown",
      "metadata": {},
      "source": [
        "Q.16. \"G\", \"()\" ve/veya \"(al)\" alfabesinden oluşan bir komut dizisi olan komut verildiğinde, komutu yorumlayan bir Goal Parser'a geri dönüş yapmalısınız. Goal Parser, \"G\" dizesini \"G\" olarak yorumlayacak, \"()\" dizesini \"o\" olarak yorumlayacak ve \"(al)\" dizesini \"al\" olarak yorumlayacak. Yorumlanan dizeleri orijinal sıraya ekleyerek, komut dizisinin yorumunu döndürün.\n",
        "\n",
        "Örnek 1:\n",
        "\n",
        "Input: command = \"G()(al)\"\n",
        "\n",
        "Output: \"Goal\"\n",
        "\n",
        "Açıklama: Goal Parser komutu şu şekilde yorumlar: G -> G () -> o (al) -> al Son birleştirilen sonuç \"Goal\" olur."
      ]
    },
    {
      "cell_type": "markdown",
      "metadata": {
        "id": "J3Ly3fFOpUPe"
      },
      "source": [
        "Q.17. Given two string arrays word1 and word2, return true if the two arrays represent the same string, and false otherwise. A string is represented by an array if the array elements concatenated in order forms the string.\n",
        "\n",
        "Example 1:\n",
        "\n",
        "Input: word1 = [\"ab\", \"c\"], word2 = [\"a\", \"bc\"]\n",
        "\n",
        "Output: true\n",
        "\n",
        "Explanation: word1 represents string \"ab\" + \"c\" -> \"abc\" word2 represents string \"a\" + \"bc\" -> \"abc\" The strings are the same, so return true.\n",
        "\n",
        "Example 2:\n",
        "\n",
        "Input: word1 = [\"a\", \"cb\"], word2 = [\"ab\", \"c\"]\n",
        "\n",
        "Output: false"
      ]
    },
    {
      "attachments": {},
      "cell_type": "markdown",
      "metadata": {},
      "source": [
        "Q.17. İki dize dizisi olan word1 ve word2 verildiğinde, iki dizi aynı dizeyi temsil ediyorsa true, aksi takdirde false döndürün. Bir dizi, dizi elemanlarını sırayla birleştirerek dizeyi temsil eder.\n",
        "\n",
        "Örnek 1:\n",
        "\n",
        "Input: word1 = [\"ab\", \"c\"], word2 = [\"a\", \"bc\"]\n",
        "\n",
        "Output: true\n",
        "\n",
        "Açıklama: word1, \"ab\" + \"c\" -> \"abc\" kelimesini temsil eder. word2, \"a\" + \"bc\" -> \"abc\" kelimesini temsil eder. Diziler aynı dizeyi temsil ettiğinden dolayı true döndürür."
      ]
    },
    {
      "cell_type": "markdown",
      "metadata": {
        "id": "-rt4f3-Bp797"
      },
      "source": [
        "Q.18. Given a positive integer n, find the sum of all integers in the range [1, n] inclusive that are divisible by 3, 5, or 7.\n",
        "\n",
        "Return an integer denoting the sum of all numbers in the given range satisfying the constraint.\n",
        "\n",
        "Example 1:\n",
        "\n",
        "Input: n = 7\n",
        "\n",
        "Output: 21\n",
        "\n",
        "Explanation: Numbers in the range [1, 7] that are divisible by 3, 5, or 7 are 3, 5, 6, 7. The sum of these numbers is 21.\n",
        "\n",
        "Example 2:\n",
        "\n",
        "Input: n = 10\n",
        "\n",
        "Output: 40\n",
        "\n",
        "Explanation: Numbers in the range [1, 10] that are divisible by 3, 5, or 7 are 3, 5, 6, 7, 9, 10. The sum of these numbers is 40."
      ]
    },
    {
      "attachments": {},
      "cell_type": "markdown",
      "metadata": {},
      "source": [
        "Q.18. Bir pozitif tamsayı olan n verildiğinde, [1, n] aralığındaki tüm sayıların 3, 5 veya 7'ye tam bölünebilir olanlarının toplamını bulun.\n",
        "\n",
        "Belirtilen kısıtı sağlayan tüm sayıların toplamını döndürün.\n",
        "\n",
        "Örnek 1:\n",
        "\n",
        "Input: n = 7\n",
        "\n",
        "Output: 21\n",
        "\n",
        "Açıklama: 1 ile 7 arasındaki 3, 5 veya 7'ye tam bölünebilen sayılar 3, 5, 6 ve 7'dir. Bu sayıların toplamı 21'dir."
      ]
    },
    {
      "cell_type": "markdown",
      "metadata": {
        "id": "e0kdHw4bqND1"
      },
      "source": [
        "Q.19. You are given a 0-indexed array words consisting of distinct strings.\n",
        "\n",
        "The string words[i] can be paired with the string words[j] if:\n",
        "\n",
        "* The string words[i] is equal to the reversed string of words[j].\n",
        "* 0 <= i < j < words.length.\n",
        "\n",
        "Return the maximum number of pairs that can be formed from the array words.\n",
        "\n",
        "Note that each string can belong in at most one pair.\n",
        "\n",
        "Example 1:\n",
        "\n",
        "Input: words = [\"cd\",\"ac\",\"dc\",\"ca\",\"zz\"]\n",
        "\n",
        "Output: 2\n",
        "\n",
        "Explanation: In this example, we can form 2 pair of strings in the following way:\n",
        "- We pair the 0th string with the 2nd string, as the reversed string of word[0] is \"dc\" and is equal to words[2].\n",
        "- We pair the 1st string with the 3rd string, as the reversed string of word[1] is \"ca\" and is equal to words[3].\n",
        "It can be proven that 2 is the maximum number of pairs that can be formed.\n",
        "\n",
        "Example 2:\n",
        "\n",
        "Input: words = [\"ab\",\"ba\",\"cc\"]\n",
        "\n",
        "Output: 1\n",
        "\n",
        "Explanation: In this example, we can form 1 pair of strings in the following way:\n",
        "- We pair the 0th string with the 1st string, as the reversed string of words[1] is \"ab\" and is equal to words[0].\n",
        "It can be proven that 1 is the maximum number of pairs that can be formed."
      ]
    },
    {
      "attachments": {},
      "cell_type": "markdown",
      "metadata": {},
      "source": [
        "Q.19. words adında bir diziniz var ve her bir elemanı farklı dize olan bir dizidir.\n",
        "\n",
        "Dize words[i] dize words[j] ile eşleştirilebilir, eğer:\n",
        "\n",
        "Dize words[i], dize words[j]'nin tersiyle eşleşiyorsa.\n",
        "0 <= i < j < words.length.\n",
        "Verilen dizi words için, oluşturulabilecek en fazla çift sayısını döndürün.\n",
        "\n",
        "Not: Her bir dize en fazla bir çiftte olabilir.\n",
        "\n",
        "Örnek 1:\n",
        "\n",
        "Input: words = [\"cd\",\"ac\",\"dc\",\"ca\",\"zz\"]\n",
        "\n",
        "Output: 2\n",
        "\n",
        "Açıklama: Bu örnekte, şu şekilde 2 dize çifti oluşturulabilir:\n",
        "\n",
        "0. dizgeyi 2. dizge ile eşleştirin, çünkü word[0]'ın tersi \"dc\" ile eşleşiyor ve words[2] dizgesine eşit.\n",
        "dizgeyi 3. dizge ile eşleştirin, çünkü word[1]'ın tersi \"ca\" ile eşleşiyor ve words[3] dizgesine eşit."
      ]
    },
    {
      "cell_type": "markdown",
      "metadata": {
        "id": "Y_Dp0Rp5rb4T"
      },
      "source": [
        "Q.20. Given a positive integer n, find the pivot integer x such that:\n",
        "\n",
        "The sum of all elements between 1 and x inclusively equals the sum of all elements between x and n inclusively.\n",
        "\n",
        "Return the pivot integer x. If no such integer exists, return -1. It is guaranteed that there will be at most one pivot index for the given input.\n",
        "\n",
        "Example 1:\n",
        "\n",
        "Input: n = 8\n",
        "\n",
        "Output: 6\n",
        "\n",
        "Explanation: 6 is the pivot integer since: 1 + 2 + 3 + 4 + 5 + 6 = 6 + 7 + 8 = 21.\n",
        "\n",
        "Example 2:\n",
        "\n",
        "Input: n = 1\n",
        "\n",
        "Output: 1\n",
        "\n",
        "Explanation: 1 is the pivot integer since: 1 = 1.\n",
        "\n",
        "Example 3:\n",
        "\n",
        "Input: n = 4\n",
        "\n",
        "Output: -1\n",
        "\n",
        "Explanation: It can be proved that no such integer exist."
      ]
    },
    {
      "attachments": {},
      "cell_type": "markdown",
      "metadata": {},
      "source": [
        "Q.20. Bir pozitif tamsayı olan n verildiğinde, [1, n] aralığındaki tüm sayılar için geçerli olan x'i bulun:\n",
        "\n",
        "1'den x'e kadar olan tüm elemanların toplamı, x'den n'ye kadar olan tüm elemanların toplamına eşit olmalıdır.\n",
        "Eğer böyle bir x yoksa -1 döndürün. Verilen giriş için en fazla bir x olduğu garanti edilir.\n",
        "\n",
        "Örnek 1:\n",
        "\n",
        "Input: n = 8\n",
        "\n",
        "Output: 6\n",
        "\n",
        "Açıklama: 6, aşağıdaki durumu sağlar: 1 + 2 + 3 + 6 = 4 + 5 + 7 + 8\n",
        "\n",
        "Örnek 2:\n",
        "\n",
        "Input: n = 1\n",
        "\n",
        "Output: 1\n",
        "\n",
        "Açıklama: 1, sadece tek bir sayı olduğu için herhangi bir dizi yok. Bu nedenle 1 döndürülür.\n",
        "\n",
        "Örnek 3:\n",
        "\n",
        "Input: n = 15\n",
        "\n",
        "Output: -1\n",
        "\n",
        "Açıklama: [1 + 2 + 3 + 4 + 5 + 6 + 7 + 8 + 9 + 10 + 11 + 12 + 13 + 14] != [15] durumu sağlanmaz, bu nedenle -1 döndürülür."
      ]
    }
  ],
  "metadata": {
    "colab": {
      "provenance": []
    },
    "kernelspec": {
      "display_name": "Python 3",
      "name": "python3"
    },
    "language_info": {
      "name": "python"
    }
  },
  "nbformat": 4,
  "nbformat_minor": 0
}
